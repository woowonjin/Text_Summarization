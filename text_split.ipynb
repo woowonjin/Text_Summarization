{
 "cells": [
  {
   "cell_type": "code",
   "execution_count": 4,
   "id": "9d3e0cc5-bbe9-44fa-87a0-c54d7387225c",
   "metadata": {},
   "outputs": [],
   "source": [
    "from kss import split_sentences\n",
    "import json\n",
    "from tqdm import tqdm"
   ]
  },
  {
   "cell_type": "code",
   "execution_count": 5,
   "id": "208fadd8-7f5f-4055-9309-af7e6d120043",
   "metadata": {},
   "outputs": [],
   "source": [
    "train_file_path = \"train_summary.json\"\n",
    "train_summary_file_path = \"train_summary_broadcast.json\"\n",
    "test_file_path = \"test_summary.json\""
   ]
  },
  {
   "cell_type": "code",
   "execution_count": 6,
   "id": "faec6fbc-96d6-44ba-850d-7470bfe1f7b1",
   "metadata": {},
   "outputs": [
    {
     "name": "stderr",
     "output_type": "stream",
     "text": [
      "100%|██████████| 4640/4640 [1:22:32<00:00,  1.07s/it]\n"
     ]
    },
    {
     "name": "stdout",
     "output_type": "stream",
     "text": [
      "test_error_idx : [420, 762, 1070, 1655, 1875, 1883, 1946, 1958, 2531, 2668, 2732, 2926, 2955, 3026, 3322, 3405, 3465, 3576, 3610, 3828]\n"
     ]
    }
   ],
   "source": [
    "# with open(train_file_path, \"r\", encoding=\"utf-8\") as f:\n",
    "#     train_files = json.load(f)\n",
    "#     train_error_idx = []\n",
    "#     idx = 0\n",
    "#     for file in tqdm(train_files):\n",
    "#         text = file[\"original\"]\n",
    "#         try:\n",
    "#             text_splited = split_sentences(text)\n",
    "#             file[\"original_splited\"] = text_splited\n",
    "#         except:\n",
    "#             train_error_idx.append(idx)\n",
    "#         idx += 1            \n",
    "# with open(\"train_summary_splited.json\", \"w\", encoding=\"utf-8\") as f:\n",
    "#     json.dump(train_files, f)\n",
    "# print(f\"train_error_idx : {train_error_idx}\")\n",
    "    \n",
    "with open(test_file_path, \"r\", encoding=\"utf-8\") as f:\n",
    "    test_files = json.load(f)\n",
    "    test_error_idx = []\n",
    "    idx = 0\n",
    "    for file in tqdm(test_files):\n",
    "        text = file[\"original\"]\n",
    "        try:\n",
    "            text_splited = split_sentences(text)\n",
    "            file[\"original_splited\"] = text_splited\n",
    "        except:\n",
    "            test_error_idx.append(idx)\n",
    "        idx += 1\n",
    "with open(\"test_summary_splited.json\", \"w\", encoding=\"utf-8\") as f:\n",
    "    json.dump(test_files, f)\n",
    "print(f\"test_error_idx : {test_error_idx}\")"
   ]
  },
  {
   "cell_type": "code",
   "execution_count": null,
   "id": "9f82b8b5-5035-41f9-80a4-f364137a1074",
   "metadata": {},
   "outputs": [],
   "source": []
  },
  {
   "cell_type": "code",
   "execution_count": null,
   "id": "f5b1ca9a-f11a-460a-8f05-9f7790efb888",
   "metadata": {},
   "outputs": [],
   "source": []
  }
 ],
 "metadata": {
  "kernelspec": {
   "display_name": "Python 3",
   "language": "python",
   "name": "python3"
  },
  "language_info": {
   "codemirror_mode": {
    "name": "ipython",
    "version": 3
   },
   "file_extension": ".py",
   "mimetype": "text/x-python",
   "name": "python",
   "nbconvert_exporter": "python",
   "pygments_lexer": "ipython3",
   "version": "3.7.11"
  }
 },
 "nbformat": 4,
 "nbformat_minor": 5
}
