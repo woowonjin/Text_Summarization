{
 "cells": [
  {
   "cell_type": "code",
   "execution_count": 1,
   "id": "8aef74b4-bdae-4066-8014-8617892cfba5",
   "metadata": {},
   "outputs": [],
   "source": [
    "import torch\n",
    "import json\n",
    "import numpy as np\n",
    "import random\n",
    "import torch.nn as nn\n",
    "\n",
    "from kss import split_sentences\n",
    "from torch.utils.data import Dataset, DataLoader\n",
    "from transformers import AutoTokenizer, AutoModel, AutoConfig, set_seed\n",
    "from sklearn.model_selection import train_test_split"
   ]
  },
  {
   "cell_type": "code",
   "execution_count": 2,
   "id": "7731e972-2f81-49f7-83d7-d644f21b57d0",
   "metadata": {},
   "outputs": [],
   "source": [
    "file_train = \"train_summary_splited.json\"\n",
    "file_train_broad = \"train_summary_broadcast.json\"\n",
    "model_name = \"klue/roberta-base\"\n",
    "tokenizer = AutoTokenizer.from_pretrained(model_name)\n",
    "seed = 2021"
   ]
  },
  {
   "cell_type": "code",
   "execution_count": 3,
   "id": "a799fc6d-72ec-4119-bcd2-78174e7037f4",
   "metadata": {},
   "outputs": [],
   "source": [
    "def seed_everything(seed) :\n",
    "    torch.manual_seed(seed)\n",
    "    torch.cuda.manual_seed(seed)\n",
    "    torch.cuda.manual_seed_all(seed) # if use multi-GPU\n",
    "    torch.backends.cudnn.deterministic = True\n",
    "    torch.backends.cudnn.benchmark = False\n",
    "    np.random.seed(seed)\n",
    "    random.seed(seed)\n",
    "    set_seed(seed)\n",
    "seed_everything(seed)"
   ]
  },
  {
   "cell_type": "code",
   "execution_count": 4,
   "id": "36d69804-2529-402a-89f4-f34ed15e0426",
   "metadata": {},
   "outputs": [],
   "source": [
    "with open(file_train, \"r\", encoding=\"utf-8\") as f:\n",
    "    train_file1 = json.load(f)\n",
    "# with open(file_train_broad, \"r\", encoding=\"utf-8\") as f:\n",
    "#     train_file2 = json.load(f)\n",
    "# train_file = train_file1 + train_file2\n",
    "train_file = train_file1\n",
    "train_file = [file for file in train_file if \"original_splited\" in file.keys()]"
   ]
  },
  {
   "cell_type": "code",
   "execution_count": 5,
   "id": "cf0ea0f1-d451-4b9d-9d72-92d0823bae44",
   "metadata": {},
   "outputs": [],
   "source": [
    "train_set, val_set = train_test_split(train_file, test_size=0.1, random_state=seed)\n",
    "max_labels_num = 60"
   ]
  },
  {
   "cell_type": "code",
   "execution_count": 14,
   "id": "dc657d42-9579-4fd3-af49-84700f5c1319",
   "metadata": {},
   "outputs": [],
   "source": [
    "class SummaryDataset(Dataset):\n",
    "    def __init__(self, file, tokenizer):\n",
    "        self.dataset = file\n",
    "        self.tokenizer = tokenizer\n",
    "\n",
    "    def __len__(self):\n",
    "        return len(self.dataset)\n",
    "    \n",
    "    def __getitem__(self, idx):\n",
    "        x = self.dataset[idx][\"original\"]\n",
    "        y = self.dataset[idx][\"summary\"]\n",
    "\n",
    "        #나뉘어진 문장\n",
    "        x_splited = self.dataset[idx][\"original_splited\"]\n",
    "\n",
    "        #각 문장마다 [CLS], [SEP] 붙이기\n",
    "        x_splited_with_special = [f\"[CLS] {x_splited[i]} [SEP]\" if i != 0 else f\"{x_splited[i]} [SEP]\" for i in range(len(x_splited)-1)]\n",
    "        x_splited_with_special.append(f\"[CLS] {x_splited[len(x_splited)-1]}\") # last sentence\n",
    "        \n",
    "        x_splited += [\"\" for _ in range(60-len(x_splited))]\n",
    "        \n",
    "        # 각 문장에 [CLS], [SEP] 붙인것들 join 하기\n",
    "        x_with_special = \" \".join(x_splited_with_special)\n",
    "\n",
    "        # 문장들의 정답 라벨 구하기 -> [1, 0, 0, 1] 같은 형식\n",
    "        labels = [1 if sentence in y else 0 for sentence in x_splited]\n",
    "        labels += [-1 for _ in range(60-len(labels))]\n",
    "\n",
    "        # 나뉘어진 문장을 tokenizer에 넣은 후 CLS토큰의 index찾아서 담아주기 → 여기 예시에서는 CLS가 4개 -> 위치 index도 담아야함\n",
    "        # res = self.tokenizer(x_with_special, max_length=1024, padding=\"max_length\", truncation=True, return_tensors=\"pt\")\n",
    "        res = self.tokenizer(x_with_special, padding=\"max_length\", truncation=True, return_tensors=\"pt\")\n",
    "        cls_idx = [i for i in range(res[\"input_ids\"][0].size()[0]) if res[\"input_ids\"][0][i] == self.tokenizer.convert_tokens_to_ids(\"[CLS]\")]\n",
    "        cls_idx += [-1 for _ in range(60-len(cls_idx))]\n",
    "        \n",
    "        #segment embedding 구하기 -> 홀수번째 문장은 0, 짝수번째 문장은 1\n",
    "        seg_embed = []\n",
    "        cls_cnt = 0\n",
    "        for ids in res[\"input_ids\"][0]:\n",
    "            if ids == self.tokenizer.convert_tokens_to_ids(\"[CLS]\"):\n",
    "                cls_cnt += 1\n",
    "            if cls_cnt % 2 == 0:\n",
    "                seg_embed.append(1)\n",
    "            else:\n",
    "                seg_embed.append(0)\n",
    "        # print(f\"token_type_ids: {res['token_type_ids'].size()}\")\n",
    "        # print(f\"input_ids : {res['input_ids'].size()}\")\n",
    "        # print(f\"attention : {res['attention_mask'].size()}\")\n",
    "        # dict형태로 return\n",
    "        res_dict = {\"original_splited\" : x_splited, \n",
    "                    \"input_ids\": res[\"input_ids\"],\n",
    "                    \"token_type_ids\": torch.tensor(seg_embed).unsqueeze(0),\n",
    "                    # \"token_type_ids\": res[\"token_type_ids\"],\n",
    "                    \"attention_mask\": res[\"attention_mask\"],\n",
    "                    \"cls_idx\": torch.tensor(cls_idx).unsqueeze(0),\n",
    "                    \"labels\": torch.tensor(labels).unsqueeze(0)}\n",
    "        # return res_dict[\"input_ids\"], res_dict[\"attention_mask\"], res_dict[\"token_type_ids\"], res_dict[\"original_splited\"], res_dict[\"cls_idx\"], res_dict[\"labels\"]\n",
    "        return res_dict"
   ]
  },
  {
   "cell_type": "code",
   "execution_count": 15,
   "id": "59b1e270-d20c-4b06-8636-c29ba63276e4",
   "metadata": {},
   "outputs": [],
   "source": [
    "train_dataset = SummaryDataset(train_set, tokenizer)\n",
    "val_dataset = SummaryDataset(val_set, tokenizer)"
   ]
  },
  {
   "cell_type": "code",
   "execution_count": 16,
   "id": "8915d3d1-5e0e-40a4-b9b6-ce70a5aed335",
   "metadata": {},
   "outputs": [],
   "source": [
    "train_dataloader = DataLoader(train_dataset, batch_size=4, shuffle=False)"
   ]
  },
  {
   "cell_type": "code",
   "execution_count": 17,
   "id": "85bb2377-c3bb-4377-860d-22395a82796a",
   "metadata": {},
   "outputs": [],
   "source": [
    "class SummaryModel(nn.Module):\n",
    "    def __init__(self, model_name):\n",
    "        super().__init__()\n",
    "        # self.config = AutoConfig.from_pretrained(model_name)\n",
    "        # self.config.max_position_embeddings = 1026\n",
    "\n",
    "        self.encoder = AutoModel.from_pretrained(model_name)\n",
    "        # self.pos_emb = PositionalEncoding(dropout, self.config.hidden_size, max_len=self.condig.max_position_embeddings)\n",
    "\n",
    "    def forward(self, input_dict):\n",
    "        print(input_dict[\"token_type_ids\"].size())\n",
    "        output = self.encoder(input_ids=input_dict[\"input_ids\"].squeeze(), \n",
    "                            attention_mask=input_dict[\"attention_mask\"].squeeze(),\n",
    "                            token_type_ids=input_dict[\"token_type_ids\"].squeeze())\n",
    "        print(output)"
   ]
  },
  {
   "cell_type": "code",
   "execution_count": 18,
   "id": "cd780ace-2fb5-4d9e-8245-d8c6c8baa879",
   "metadata": {},
   "outputs": [
    {
     "name": "stderr",
     "output_type": "stream",
     "text": [
      "Some weights of the model checkpoint at klue/roberta-base were not used when initializing RobertaModel: ['lm_head.dense.bias', 'lm_head.decoder.weight', 'lm_head.decoder.bias', 'lm_head.dense.weight', 'lm_head.layer_norm.weight', 'lm_head.layer_norm.bias', 'lm_head.bias']\n",
      "- This IS expected if you are initializing RobertaModel from the checkpoint of a model trained on another task or with another architecture (e.g. initializing a BertForSequenceClassification model from a BertForPreTraining model).\n",
      "- This IS NOT expected if you are initializing RobertaModel from the checkpoint of a model that you expect to be exactly identical (initializing a BertForSequenceClassification model from a BertForSequenceClassification model).\n",
      "Some weights of RobertaModel were not initialized from the model checkpoint at klue/roberta-base and are newly initialized: ['roberta.pooler.dense.bias', 'roberta.pooler.dense.weight']\n",
      "You should probably TRAIN this model on a down-stream task to be able to use it for predictions and inference.\n"
     ]
    }
   ],
   "source": [
    "model = SummaryModel(model_name)"
   ]
  },
  {
   "cell_type": "code",
   "execution_count": 19,
   "id": "6621b363-91f5-4871-ae4d-2e0c989b3fd1",
   "metadata": {},
   "outputs": [
    {
     "name": "stdout",
     "output_type": "stream",
     "text": [
      "torch.Size([4, 512]) torch.Size([4, 512]) torch.Size([4, 512])\n"
     ]
    }
   ],
   "source": [
    "for idx, batch in enumerate(train_dataloader):\n",
    "    model(batch)\n",
    "    break"
   ]
  },
  {
   "cell_type": "code",
   "execution_count": null,
   "id": "0e1c53b3-4d51-44c0-80db-406d5e949221",
   "metadata": {},
   "outputs": [],
   "source": [
    "class PositionalEncoding(nn.Module):\n",
    "\n",
    "    def __init__(self, dropout, dim, max_len=5000):\n",
    "        pe = torch.zeros(max_len, dim)\n",
    "        position = torch.arange(0, max_len).unsqueeze(1)\n",
    "        div_term = torch.exp((torch.arange(0, dim, 2, dtype=torch.float) *\n",
    "                              -(math.log(10000.0) / dim)))\n",
    "        pe[:, 0::2] = torch.sin(position.float() * div_term)\n",
    "        pe[:, 1::2] = torch.cos(position.float() * div_term)\n",
    "        pe = pe.unsqueeze(0)\n",
    "        super(PositionalEncoding, self).__init__()\n",
    "        self.register_buffer('pe', pe)\n",
    "        self.dropout = nn.Dropout(p=dropout)\n",
    "        self.dim = dim\n",
    "\n",
    "    def forward(self, emb, step=None):\n",
    "        emb = emb * math.sqrt(self.dim)\n",
    "        if (step):\n",
    "            emb = emb + self.pe[:, step][:, None, :]\n",
    "\n",
    "        else:\n",
    "            emb = emb + self.pe[:, :emb.size(1)]\n",
    "        emb = self.dropout(emb)\n",
    "        return emb\n",
    "\n",
    "    def get_emb(self, emb):\n",
    "        return self.pe[:, :emb.size(1)"
   ]
  }
 ],
 "metadata": {
  "kernelspec": {
   "display_name": "Python 3",
   "language": "python",
   "name": "python3"
  },
  "language_info": {
   "codemirror_mode": {
    "name": "ipython",
    "version": 3
   },
   "file_extension": ".py",
   "mimetype": "text/x-python",
   "name": "python",
   "nbconvert_exporter": "python",
   "pygments_lexer": "ipython3",
   "version": "3.7.11"
  }
 },
 "nbformat": 4,
 "nbformat_minor": 5
}
