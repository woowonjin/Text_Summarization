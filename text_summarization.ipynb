{
 "cells": [
  {
   "cell_type": "code",
   "execution_count": 1,
   "id": "8aef74b4-bdae-4066-8014-8617892cfba5",
   "metadata": {},
   "outputs": [],
   "source": [
    "import torch\n",
    "import json\n",
    "import numpy as np\n",
    "import random\n",
    "import torch.nn as nn\n",
    "import torch.nn.functional as F\n",
    "from tqdm import tqdm\n",
    "\n",
    "from kss import split_sentences\n",
    "from torch.utils.data import Dataset, DataLoader\n",
    "from transformers import AutoTokenizer, AutoModel, AutoConfig, set_seed\n",
    "from sklearn.model_selection import train_test_split"
   ]
  },
  {
   "cell_type": "code",
   "execution_count": 2,
   "id": "7731e972-2f81-49f7-83d7-d644f21b57d0",
   "metadata": {},
   "outputs": [
    {
     "name": "stdout",
     "output_type": "stream",
     "text": [
      "device is cuda\n"
     ]
    }
   ],
   "source": [
    "file_train = \"train_summary_splited.json\"\n",
    "file_train_broad = \"train_summary_broadcast.json\"\n",
    "model_name = \"klue/bert-base\"\n",
    "tokenizer = AutoTokenizer.from_pretrained(model_name)\n",
    "seed = 2021\n",
    "device = \"cuda\" if torch.cuda.is_available() else \"cpu\"\n",
    "print(f\"device is {device}\")\n",
    "if torch.cuda.is_available():\n",
    "    torch.cuda.empty_cache()"
   ]
  },
  {
   "cell_type": "code",
   "execution_count": 3,
   "id": "a799fc6d-72ec-4119-bcd2-78174e7037f4",
   "metadata": {},
   "outputs": [],
   "source": [
    "def seed_everything(seed) :\n",
    "    torch.manual_seed(seed)\n",
    "    torch.cuda.manual_seed(seed)\n",
    "    torch.cuda.manual_seed_all(seed) # if use multi-GPU\n",
    "    torch.backends.cudnn.deterministic = True\n",
    "    torch.backends.cudnn.benchmark = False\n",
    "    np.random.seed(seed)\n",
    "    random.seed(seed)\n",
    "    set_seed(seed)\n",
    "seed_everything(seed)"
   ]
  },
  {
   "cell_type": "code",
   "execution_count": 4,
   "id": "36d69804-2529-402a-89f4-f34ed15e0426",
   "metadata": {},
   "outputs": [],
   "source": [
    "with open(file_train, \"r\", encoding=\"utf-8\") as f:\n",
    "    train_file1 = json.load(f)\n",
    "# with open(file_train_broad, \"r\", encoding=\"utf-8\") as f:\n",
    "#     train_file2 = json.load(f)\n",
    "# train_file = train_file1 + train_file2\n",
    "train_file = train_file1\n",
    "train_file = [file for file in train_file if \"original_splited\" in file.keys()]"
   ]
  },
  {
   "cell_type": "code",
   "execution_count": 5,
   "id": "cf0ea0f1-d451-4b9d-9d72-92d0823bae44",
   "metadata": {},
   "outputs": [],
   "source": [
    "train_set, val_set = train_test_split(train_file, test_size=0.1, random_state=seed)\n",
    "max_labels_num = 60"
   ]
  },
  {
   "cell_type": "code",
   "execution_count": 6,
   "id": "dc657d42-9579-4fd3-af49-84700f5c1319",
   "metadata": {},
   "outputs": [],
   "source": [
    "class SummaryDataset(Dataset):\n",
    "    def __init__(self, file, tokenizer):\n",
    "        self.dataset = file\n",
    "        self.tokenizer = tokenizer\n",
    "\n",
    "    def __len__(self):\n",
    "        return len(self.dataset)\n",
    "    \n",
    "    def __getitem__(self, idx):\n",
    "        x = self.dataset[idx][\"original\"]\n",
    "        y = self.dataset[idx][\"summary\"]\n",
    "\n",
    "        #나뉘어진 문장\n",
    "        x_splited = self.dataset[idx][\"original_splited\"]\n",
    "\n",
    "        #각 문장마다 [CLS], [SEP] 붙이기\n",
    "        x_splited_with_special = [f\"[CLS] {x_splited[i]} [SEP]\" if i != 0 else f\"{x_splited[i]} [SEP]\" for i in range(len(x_splited)-1)]\n",
    "        x_splited_with_special.append(f\"[CLS] {x_splited[len(x_splited)-1]}\") # last sentence\n",
    "        \n",
    "        \n",
    "        # 각 문장에 [CLS], [SEP] 붙인것들 join 하기\n",
    "        x_with_special = \" \".join(x_splited_with_special)\n",
    "\n",
    "        # 문장들의 정답 라벨 구하기 -> [1, 0, 0, 1] 같은 형식\n",
    "        labels = [1 if sentence in y else 0 for sentence in x_splited]\n",
    "        labels += [0 for _ in range(60-len(labels))]\n",
    "\n",
    "        # 나뉘어진 문장을 tokenizer에 넣은 후 CLS토큰의 index찾아서 담아주기 → 여기 예시에서는 CLS가 4개 -> 위치 index도 담아야함\n",
    "        # res = self.tokenizer(x_with_special, max_length=1024, padding=\"max_length\", truncation=True, return_tensors=\"pt\")\n",
    "        res = self.tokenizer(x_with_special, padding=\"max_length\", truncation=True, return_tensors=\"pt\")\n",
    "        cls_idx = [i for i in range(res[\"input_ids\"][0].size(0)) if res[\"input_ids\"][0][i] == self.tokenizer.convert_tokens_to_ids(\"[CLS]\")]\n",
    "        cls_idx += [-1 for _ in range(60-len(cls_idx))]\n",
    "        \n",
    "        x_splited += [\"\" for _ in range(60-len(x_splited))]\n",
    "        \n",
    "        #segment embedding 구하기 -> 홀수번째 문장은 0, 짝수번째 문장은 1\n",
    "        seg_embed = []\n",
    "        cls_cnt = 0\n",
    "        for ids in res[\"input_ids\"][0]:\n",
    "            if ids == self.tokenizer.convert_tokens_to_ids(\"[CLS]\"):\n",
    "                cls_cnt += 1\n",
    "            if cls_cnt % 2 == 0:\n",
    "                seg_embed.append(1)\n",
    "            else:\n",
    "                seg_embed.append(0)\n",
    "        # print(f\"token_type_ids: {res['token_type_ids'].size()}\")\n",
    "        # print(f\"input_ids : {res['input_ids'].size()}\")\n",
    "        # print(f\"attention : {res['attention_mask'].size()}\")\n",
    "        # dict형태로 return\n",
    "        res_dict = {\"original_splited\" : x_splited, \n",
    "                    \"input_ids\": res[\"input_ids\"],\n",
    "                    \"token_type_ids\": torch.tensor(seg_embed).unsqueeze(0),\n",
    "                    # \"token_type_ids\": res[\"token_type_ids\"],\n",
    "                    \"attention_mask\": res[\"attention_mask\"],\n",
    "                    \"cls_idx\": torch.tensor(cls_idx).unsqueeze(0),\n",
    "                    \"labels\": torch.tensor(labels).unsqueeze(0)}\n",
    "        # return res_dict[\"input_ids\"], res_dict[\"attention_mask\"], res_dict[\"token_type_ids\"], res_dict[\"original_splited\"], res_dict[\"cls_idx\"], res_dict[\"labels\"]\n",
    "        return res_dict"
   ]
  },
  {
   "cell_type": "code",
   "execution_count": 7,
   "id": "59b1e270-d20c-4b06-8636-c29ba63276e4",
   "metadata": {},
   "outputs": [],
   "source": [
    "train_dataset = SummaryDataset(train_set, tokenizer)\n",
    "val_dataset = SummaryDataset(val_set, tokenizer)"
   ]
  },
  {
   "cell_type": "code",
   "execution_count": 8,
   "id": "8915d3d1-5e0e-40a4-b9b6-ce70a5aed335",
   "metadata": {},
   "outputs": [],
   "source": [
    "train_dataloader = DataLoader(train_dataset, batch_size=32, shuffle=False)"
   ]
  },
  {
   "cell_type": "code",
   "execution_count": 9,
   "id": "85bb2377-c3bb-4377-860d-22395a82796a",
   "metadata": {},
   "outputs": [],
   "source": [
    "class SummaryModel(nn.Module):\n",
    "    def __init__(self, model_name, device):\n",
    "        super().__init__()\n",
    "        self.device = device\n",
    "        # self.config = AutoConfig.from_pretrained(model_name)\n",
    "        # self.config.max_position_embeddings = 1026\n",
    "\n",
    "        self.encoder = AutoModel.from_pretrained(model_name)\n",
    "        self.classifier = nn.Linear(self.encoder.config.hidden_size, 1)\n",
    "        # self.pos_emb = PositionalEncoding(dropout, self.config.hidden_size, max_len=self.condig.max_position_embeddings)\n",
    "\n",
    "    def forward(self, input_dict):\n",
    "        # print(tokenizer.decode(input_dict[\"input_ids\"]))\n",
    "        # print(input_dict[\"cls_idx\"].size())\n",
    "        # print(input_dict[\"labels\"].size())\n",
    "        if input_dict[\"input_ids\"].size(0) == 1:\n",
    "            output = self.encoder(input_ids=input_dict[\"input_ids\"].to(self.device), \n",
    "                                attention_mask=input_dict[\"attention_mask\"].to(self.device),\n",
    "                                token_type_ids=input_dict[\"token_type_ids\"].to(self.device))\n",
    "        else:\n",
    "            output = self.encoder(input_ids=input_dict[\"input_ids\"].squeeze().to(self.device), \n",
    "                            attention_mask=input_dict[\"attention_mask\"].squeeze().to(self.device),\n",
    "                            token_type_ids=input_dict[\"token_type_ids\"].squeeze().to(self.device))\n",
    "        embed_vectors = output[0]\n",
    "        #embed_vectors : [batch, 512, 768], cls_idx : [batch, 60]\n",
    "        cls_idx = input_dict[\"cls_idx\"] if input_dict[\"cls_idx\"].size(0)==1 else input_dict[\"cls_idx\"].squeeze()\n",
    "        labels = input_dict[\"labels\"] if input_dict[\"labels\"].size(0)==1 else input_dict[\"labels\"].squeeze()\n",
    "        all_probs = []\n",
    "        for idx, batch in enumerate(embed_vectors):\n",
    "            class_idx = cls_idx[idx, :].tolist()\n",
    "            temp = []\n",
    "            for i in class_idx:\n",
    "                if i == -1:\n",
    "                    break\n",
    "                temp.append(batch[i,:])\n",
    "            cls_stack = torch.stack(temp, dim=0)\n",
    "            logits = self.classifier(cls_stack)\n",
    "            probs = F.sigmoid(logits).squeeze()\n",
    "            all_probs.append(probs)\n",
    "        return all_probs\n",
    "        "
   ]
  },
  {
   "cell_type": "code",
   "execution_count": 10,
   "id": "23cf8ab1-ba10-43c5-9a4b-9fa2e4086c91",
   "metadata": {},
   "outputs": [],
   "source": [
    "class CustomBCE(nn.Module):\n",
    "    def __init__(self):\n",
    "        super().__init__()\n",
    "    def forward(self, labels, probs:list):\n",
    "        all_loss = 0\n",
    "        for prob, label_all in zip(probs, labels):\n",
    "            prob = prob.to(device)\n",
    "            label = label_all[0, 0:prob.size(0)].to(device)\n",
    "            loss = F.binary_cross_entropy(prob, label.float())\n",
    "            all_loss += loss\n",
    "        return all_loss/len(probs)"
   ]
  },
  {
   "cell_type": "code",
   "execution_count": 11,
   "id": "8d667cad-6973-4239-b825-96feb9fbd40e",
   "metadata": {},
   "outputs": [
    {
     "name": "stderr",
     "output_type": "stream",
     "text": [
      "Some weights of the model checkpoint at klue/bert-base were not used when initializing BertModel: ['cls.seq_relationship.bias', 'cls.predictions.transform.LayerNorm.weight', 'cls.predictions.decoder.bias', 'cls.predictions.bias', 'cls.predictions.transform.dense.bias', 'cls.predictions.transform.dense.weight', 'cls.predictions.decoder.weight', 'cls.seq_relationship.weight', 'cls.predictions.transform.LayerNorm.bias']\n",
      "- This IS expected if you are initializing BertModel from the checkpoint of a model trained on another task or with another architecture (e.g. initializing a BertForSequenceClassification model from a BertForPreTraining model).\n",
      "- This IS NOT expected if you are initializing BertModel from the checkpoint of a model that you expect to be exactly identical (initializing a BertForSequenceClassification model from a BertForSequenceClassification model).\n",
      "  0%|          | 0/30 [00:00<?, ?it/s]/opt/conda/envs/lightweight/lib/python3.7/site-packages/torch/nn/functional.py:1625: UserWarning: nn.functional.sigmoid is deprecated. Use torch.sigmoid instead.\n",
      "  warnings.warn(\"nn.functional.sigmoid is deprecated. Use torch.sigmoid instead.\")\n"
     ]
    },
    {
     "name": "stdout",
     "output_type": "stream",
     "text": [
      "loss : 0.6367884278297424\n",
      "loss : 0.6152896285057068\n",
      "loss : 0.594409167766571\n",
      "loss : 0.5978513360023499\n",
      "loss : 0.5326051712036133\n"
     ]
    },
    {
     "name": "stderr",
     "output_type": "stream",
     "text": [
      "  0%|          | 0/30 [01:02<?, ?it/s]\n"
     ]
    },
    {
     "ename": "KeyboardInterrupt",
     "evalue": "",
     "output_type": "error",
     "traceback": [
      "\u001b[0;31m---------------------------------------------------------------------------\u001b[0m",
      "\u001b[0;31mKeyboardInterrupt\u001b[0m                         Traceback (most recent call last)",
      "\u001b[0;32m<ipython-input-11-de7b6605f235>\u001b[0m in \u001b[0;36m<module>\u001b[0;34m\u001b[0m\n\u001b[1;32m      8\u001b[0m         \u001b[0mmodel\u001b[0m\u001b[0;34m.\u001b[0m\u001b[0mtrain\u001b[0m\u001b[0;34m(\u001b[0m\u001b[0;34m)\u001b[0m\u001b[0;34m\u001b[0m\u001b[0;34m\u001b[0m\u001b[0m\n\u001b[1;32m      9\u001b[0m         \u001b[0mprobs\u001b[0m \u001b[0;34m=\u001b[0m \u001b[0mmodel\u001b[0m\u001b[0;34m(\u001b[0m\u001b[0mbatch\u001b[0m\u001b[0;34m)\u001b[0m\u001b[0;34m\u001b[0m\u001b[0;34m\u001b[0m\u001b[0m\n\u001b[0;32m---> 10\u001b[0;31m         \u001b[0mlabels\u001b[0m \u001b[0;34m=\u001b[0m \u001b[0mbatch\u001b[0m\u001b[0;34m[\u001b[0m\u001b[0;34m\"labels\"\u001b[0m\u001b[0;34m]\u001b[0m\u001b[0;34m.\u001b[0m\u001b[0mto\u001b[0m\u001b[0;34m(\u001b[0m\u001b[0mdevice\u001b[0m\u001b[0;34m)\u001b[0m\u001b[0;34m\u001b[0m\u001b[0;34m\u001b[0m\u001b[0m\n\u001b[0m\u001b[1;32m     11\u001b[0m         \u001b[0mloss\u001b[0m \u001b[0;34m=\u001b[0m \u001b[0mcriterion\u001b[0m\u001b[0;34m(\u001b[0m\u001b[0mlabels\u001b[0m\u001b[0;34m,\u001b[0m \u001b[0mprobs\u001b[0m\u001b[0;34m)\u001b[0m\u001b[0;34m\u001b[0m\u001b[0;34m\u001b[0m\u001b[0m\n\u001b[1;32m     12\u001b[0m         \u001b[0moptimizer\u001b[0m\u001b[0;34m.\u001b[0m\u001b[0mzero_grad\u001b[0m\u001b[0;34m(\u001b[0m\u001b[0;34m)\u001b[0m\u001b[0;34m\u001b[0m\u001b[0;34m\u001b[0m\u001b[0m\n",
      "\u001b[0;31mKeyboardInterrupt\u001b[0m: "
     ]
    }
   ],
   "source": [
    "model = SummaryModel(model_name, device).to(device)\n",
    "criterion = CustomBCE()\n",
    "optimizer = torch.optim.Adam(model.parameters())\n",
    "epochs = 30\n",
    "\n",
    "for epoch in tqdm(range(epochs)):\n",
    "    for idx, batch in enumerate(train_dataloader):\n",
    "        model.train()\n",
    "        probs = model(batch)\n",
    "        labels = batch[\"labels\"].to(device)\n",
    "        loss = criterion(labels, probs)\n",
    "        optimizer.zero_grad()\n",
    "    \n",
    "        loss.backward()\n",
    "        optimizer.step()\n",
    "        \n",
    "        if idx % 10 == 0:\n",
    "            print(f\"loss : {loss}\")"
   ]
  },
  {
   "cell_type": "code",
   "execution_count": null,
   "id": "0e1c53b3-4d51-44c0-80db-406d5e949221",
   "metadata": {},
   "outputs": [],
   "source": [
    "# class PositionalEncoding(nn.Module):\n",
    "\n",
    "#     def __init__(self, dropout, dim, max_len=5000):\n",
    "#         pe = torch.zeros(max_len, dim)\n",
    "#         position = torch.arange(0, max_len).unsqueeze(1)\n",
    "#         div_term = torch.exp((torch.arange(0, dim, 2, dtype=torch.float) *\n",
    "#                               -(math.log(10000.0) / dim)))\n",
    "#         pe[:, 0::2] = torch.sin(position.float() * div_term)\n",
    "#         pe[:, 1::2] = torch.cos(position.float() * div_term)\n",
    "#         pe = pe.unsqueeze(0)\n",
    "#         super(PositionalEncoding, self).__init__()\n",
    "#         self.register_buffer('pe', pe)\n",
    "#         self.dropout = nn.Dropout(p=dropout)\n",
    "#         self.dim = dim\n",
    "\n",
    "#     def forward(self, emb, step=None):\n",
    "#         emb = emb * math.sqrt(self.dim)\n",
    "#         if (step):\n",
    "#             emb = emb + self.pe[:, step][:, None, :]\n",
    "\n",
    "#         else:\n",
    "#             emb = emb + self.pe[:, :emb.size(1)]\n",
    "#         emb = self.dropout(emb)\n",
    "#         return emb\n",
    "\n",
    "#     def get_emb(self, emb):\n",
    "#         return self.pe[:, :emb.size(1)"
   ]
  },
  {
   "cell_type": "code",
   "execution_count": null,
   "id": "dbe43795-3f01-4c78-9440-44ea93982151",
   "metadata": {},
   "outputs": [],
   "source": []
  }
 ],
 "metadata": {
  "kernelspec": {
   "display_name": "Python 3",
   "language": "python",
   "name": "python3"
  },
  "language_info": {
   "codemirror_mode": {
    "name": "ipython",
    "version": 3
   },
   "file_extension": ".py",
   "mimetype": "text/x-python",
   "name": "python",
   "nbconvert_exporter": "python",
   "pygments_lexer": "ipython3",
   "version": "3.7.11"
  }
 },
 "nbformat": 4,
 "nbformat_minor": 5
}
